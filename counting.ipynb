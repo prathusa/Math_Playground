{
  "cells": [
    {
      "cell_type": "code",
      "execution_count": 2,
      "metadata": {},
      "outputs": [],
      "source": [
        "# Jupyter stuff\n",
        "from IPython.core.magic import register_line_magic\n",
        "# @register_line_magic\n",
        "# def p(args):\n",
        "#     for key in args.split(\" \"):\n",
        "#         print( f'{key}: {globals()[key]}' )\n",
        "@register_line_magic\n",
        "def p(arg):\n",
        "    print( eval(arg) )"
      ]
    },
    {
      "cell_type": "code",
      "execution_count": 3,
      "metadata": {
        "trusted": true
      },
      "outputs": [],
      "source": [
        "# Global function def\n",
        "import math\n",
        "from math import factorial as fact\n",
        "\n",
        "P = lambda n, r=-1: fact(n) if r == -1 else fact(n)//fact(n-r) if n > r else 1 if n == r else 0\n",
        "C = lambda n, r=0: P(n, r)//fact(r)\n",
        "mP = ()\n",
        "mC = lambda r, k: C(r+k-1, r)"
      ]
    },
    {
      "cell_type": "code",
      "execution_count": 4,
      "metadata": {},
      "outputs": [
        {
          "name": "stdout",
          "output_type": "stream",
          "text": [
            "126\n",
            "126\n",
            "0.007936507936507936\n"
          ]
        },
        {
          "data": {
            "text/plain": [
              "0.9523809523809523"
            ]
          },
          "execution_count": 4,
          "metadata": {},
          "output_type": "execute_result"
        }
      ],
      "source": [
        "n = P(9)//(P(5) * P(4))\n",
        "%p n\n",
        "n = C(9, 4)\n",
        "%p n\n",
        "n = 1/n\n",
        "%p n\n",
        "P(5) * n"
      ]
    },
    {
      "cell_type": "code",
      "execution_count": 5,
      "metadata": {},
      "outputs": [
        {
          "data": {
            "text/plain": [
              "0.041666666666666664"
            ]
          },
          "execution_count": 5,
          "metadata": {},
          "output_type": "execute_result"
        }
      ],
      "source": [
        "n = P(9)//(P(5) * P(4))\n",
        "C(9, 5) * P(9, 5) / ( fact(9) * n )"
      ]
    },
    {
      "cell_type": "code",
      "execution_count": 6,
      "metadata": {},
      "outputs": [
        {
          "name": "stdout",
          "output_type": "stream",
          "text": [
            "553246848000\n",
            "553246848000\n"
          ]
        }
      ],
      "source": [
        "n = C(12, 5) * P(12, 5) * C(7, 3) * P(7, 3)\n",
        "%p n\n",
        "n = C(12, 5) ** 2 * C(7, 3) ** 2 * P(5) * P(3)\n",
        "%p n\n"
      ]
    },
    {
      "cell_type": "code",
      "execution_count": 7,
      "metadata": {},
      "outputs": [
        {
          "ename": "SyntaxError",
          "evalue": "invalid syntax (<string>, line 1)",
          "output_type": "error",
          "traceback": [
            "Traceback \u001b[1;36m(most recent call last)\u001b[0m:\n",
            "\u001b[0m  File \u001b[0;32m~\\AppData\\Roaming\\Python\\Python39\\site-packages\\IPython\\core\\interactiveshell.py:3433\u001b[0m in \u001b[0;35mrun_code\u001b[0m\n    exec(code_obj, self.user_global_ns, self.user_ns)\u001b[0m\n",
            "\u001b[0m  Cell \u001b[0;32mIn [7], line 4\u001b[0m\n    get_ipython().run_line_magic('p', 'num den frac')\u001b[0m\n",
            "\u001b[0m  File \u001b[0;32m~\\AppData\\Roaming\\Python\\Python39\\site-packages\\IPython\\core\\interactiveshell.py:2364\u001b[0m in \u001b[0;35mrun_line_magic\u001b[0m\n    result = fn(*args, **kwargs)\u001b[0m\n",
            "\u001b[1;36m  Cell \u001b[1;32mIn [2], line 9\u001b[1;36m in \u001b[1;35mp\u001b[1;36m\n\u001b[1;33m    print( eval(arg) )\u001b[1;36m\n",
            "\u001b[1;36m  File \u001b[1;32m<string>:1\u001b[1;36m\u001b[0m\n\u001b[1;33m    num den frac\u001b[0m\n\u001b[1;37m        ^\u001b[0m\n\u001b[1;31mSyntaxError\u001b[0m\u001b[1;31m:\u001b[0m invalid syntax\n"
          ]
        }
      ],
      "source": [
        "num = 5 ** 4 + C(4, 1) * 5 ** 3 + C(4, 2) * 5 ** 2\n",
        "den = 6 ** 4\n",
        "frac = num/den\n",
        "%p num den frac"
      ]
    },
    {
      "cell_type": "code",
      "execution_count": null,
      "metadata": {},
      "outputs": [
        {
          "data": {
            "text/plain": [
              "21"
            ]
          },
          "execution_count": 7,
          "metadata": {},
          "output_type": "execute_result"
        }
      ],
      "source": [
        "6 ** 4 - (C(4, 3) * 5 + 1)\n",
        "(C(4, 3) * 5 + 1)"
      ]
    },
    {
      "cell_type": "code",
      "execution_count": null,
      "metadata": {},
      "outputs": [
        {
          "data": {
            "text/plain": [
              "0.4830246913580247"
            ]
          },
          "execution_count": 8,
          "metadata": {},
          "output_type": "execute_result"
        }
      ],
      "source": [
        "num = C(4, 1) * 5 ** 3 + C(4, 2) * 5 ** 2 + C(4, 3) * 5 + C(4, 4)\n",
        "1 - num/den"
      ]
    },
    {
      "cell_type": "code",
      "execution_count": null,
      "metadata": {},
      "outputs": [
        {
          "data": {
            "text/plain": [
              "0.48225308641975306"
            ]
          },
          "execution_count": 9,
          "metadata": {},
          "output_type": "execute_result"
        }
      ],
      "source": [
        "5 ** 4 / 6 ** 4"
      ]
    },
    {
      "cell_type": "code",
      "execution_count": null,
      "metadata": {},
      "outputs": [
        {
          "data": {
            "text/plain": [
              "0.2777777777777778"
            ]
          },
          "execution_count": 10,
          "metadata": {},
          "output_type": "execute_result"
        }
      ],
      "source": [
        "5 * 4 * 3 / 6 ** 3"
      ]
    },
    {
      "cell_type": "code",
      "execution_count": null,
      "metadata": {},
      "outputs": [
        {
          "data": {
            "text/plain": [
              "0.16203703703703703"
            ]
          },
          "execution_count": 11,
          "metadata": {},
          "output_type": "execute_result"
        }
      ],
      "source": [
        "(C(4, 3) * 6 * 5 + C(4, 2) * C(6, 2)) / den"
      ]
    },
    {
      "cell_type": "code",
      "execution_count": null,
      "metadata": {},
      "outputs": [
        {
          "data": {
            "text/plain": [
              "6.298815822625346e-05"
            ]
          },
          "execution_count": 12,
          "metadata": {},
          "output_type": "execute_result"
        }
      ],
      "source": [
        "n = P(5) * P(4) / P(9)\n",
        "n ** 2"
      ]
    },
    {
      "cell_type": "code",
      "execution_count": null,
      "metadata": {},
      "outputs": [
        {
          "name": "stdout",
          "output_type": "stream",
          "text": [
            "126\n",
            "220\n"
          ]
        }
      ],
      "source": [
        "%p C(9, 4)\n",
        "%p mC(9, 4)"
      ]
    },
    {
      "cell_type": "code",
      "execution_count": 10,
      "metadata": {},
      "outputs": [
        {
          "name": "stdout",
          "output_type": "stream",
          "text": [
            "4320\n"
          ]
        }
      ],
      "source": [
        "%p P(6, 5) * C(6, 5)"
      ]
    },
    {
      "cell_type": "code",
      "execution_count": 30,
      "metadata": {},
      "outputs": [
        {
          "name": "stdout",
          "output_type": "stream",
          "text": [
            "9\n",
            "36\n",
            "54\n",
            "36\n",
            "9\n"
          ]
        }
      ],
      "source": [
        "from itertools import combinations, permutations\n",
        "%p sum(map(lambda x: sum(x), combinations([3,1,1,2,2,], 1)))\n",
        "%p sum(map(lambda x: sum(x), combinations([3,1,1,2,2,], 2)))\n",
        "%p sum(map(lambda x: sum(x), combinations([3,1,1,2,2,], 3)))\n",
        "%p sum(map(lambda x: sum(x), combinations([3,1,1,2,2,], 4)))\n",
        "%p sum(map(lambda x: sum(x), combinations([3,1,1,2,2,], 5)))"
      ]
    },
    {
      "cell_type": "code",
      "execution_count": 32,
      "metadata": {},
      "outputs": [
        {
          "data": {
            "text/plain": [
              "243"
            ]
          },
          "execution_count": 32,
          "metadata": {},
          "output_type": "execute_result"
        }
      ],
      "source": [
        "P(6) - 9 * P(5) + 36 * P(4) - 54 * P(3) + 36 * P(2) - 9 * P(1)"
      ]
    },
    {
      "cell_type": "code",
      "execution_count": null,
      "metadata": {},
      "outputs": [],
      "source": [
        "def pwds(c:int, n: int):\n",
        "    running = 0\n",
        "    for i in range(1, n+1):\n",
        "        running += c ** i\n",
        "    return running\n",
        "\n",
        "pwds(62, 1)"
      ]
    }
  ],
  "metadata": {
    "kernelspec": {
      "display_name": "Python 3.9.7 64-bit",
      "language": "python",
      "name": "python3"
    },
    "language_info": {
      "codemirror_mode": {
        "name": "ipython",
        "version": 3
      },
      "file_extension": ".py",
      "mimetype": "text/x-python",
      "name": "python",
      "nbconvert_exporter": "python",
      "pygments_lexer": "ipython3",
      "version": "3.9.7"
    },
    "vscode": {
      "interpreter": {
        "hash": "93eedc92d5e8afb6a3d895e3e7c7a259ea6c50e115382a86e27456f2ca1a3d52"
      }
    }
  },
  "nbformat": 4,
  "nbformat_minor": 4
}
