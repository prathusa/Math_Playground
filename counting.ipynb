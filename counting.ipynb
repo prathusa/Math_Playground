from math import factorial as fact

P = lambda n, r=0: fact(n)//fact(n-r) if n > r else 1 if n == r else 0
C = lambda n, r=0: P(n, r)//fact(r)
