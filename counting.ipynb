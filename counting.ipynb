{
  "cells": [
    {
      "cell_type": "code",
      "execution_count": 17,
      "metadata": {},
      "outputs": [],
      "source": [
        "# Jupyter stuff\n",
        "from IPython.core.magic import register_line_magic\n",
        "# @register_line_magic\n",
        "# def p(args):\n",
        "#     for key in args.split(\" \"):\n",
        "#         print( f'{key}: {globals()[key]}' )\n",
        "@register_line_magic\n",
        "def p(arg):\n",
        "    print( eval(arg) )"
      ]
    },
    {
      "cell_type": "code",
      "execution_count": 2,
      "metadata": {
        "trusted": true
      },
      "outputs": [],
      "source": [
        "# Global function def\n",
        "import math\n",
        "from math import factorial as fact\n",
        "\n",
        "P = lambda n, r=-1: fact(n) if r == -1 else fact(n)//fact(n-r) if n > r else 1 if n == r else 0\n",
        "C = lambda n, r=0: P(n, r)//fact(r)\n",
        "mP = ()\n",
        "mC = lambda r, k: C(r+k-1, r)"
      ]
    },
    {
      "cell_type": "code",
      "execution_count": 3,
      "metadata": {},
      "outputs": [
        {
          "name": "stdout",
          "output_type": "stream",
          "text": [
            "n: 126\n",
            "n: 126\n",
            "n: 0.007936507936507936\n"
          ]
        },
        {
          "data": {
            "text/plain": [
              "0.9523809523809523"
            ]
          },
          "execution_count": 3,
          "metadata": {},
          "output_type": "execute_result"
        }
      ],
      "source": [
        "n = P(9)//(P(5) * P(4))\n",
        "%p n\n",
        "n = C(9, 4)\n",
        "%p n\n",
        "n = 1/n\n",
        "%p n\n",
        "P(5) * n"
      ]
    },
    {
      "cell_type": "code",
      "execution_count": 4,
      "metadata": {},
      "outputs": [
        {
          "data": {
            "text/plain": [
              "0.041666666666666664"
            ]
          },
          "execution_count": 4,
          "metadata": {},
          "output_type": "execute_result"
        }
      ],
      "source": [
        "n = P(9)//(P(5) * P(4))\n",
        "C(9, 5) * P(9, 5) / ( fact(9) * n )"
      ]
    },
    {
      "cell_type": "code",
      "execution_count": 5,
      "metadata": {},
      "outputs": [
        {
          "name": "stdout",
          "output_type": "stream",
          "text": [
            "n: 553246848000\n",
            "n: 553246848000\n"
          ]
        }
      ],
      "source": [
        "n = C(12, 5) * P(12, 5) * C(7, 3) * P(7, 3)\n",
        "%p n\n",
        "n = C(12, 5) ** 2 * C(7, 3) ** 2 * P(5) * P(3)\n",
        "%p n\n"
      ]
    },
    {
      "cell_type": "code",
      "execution_count": 6,
      "metadata": {},
      "outputs": [
        {
          "name": "stdout",
          "output_type": "stream",
          "text": [
            "num: 1275\n",
            "den: 1296\n",
            "frac: 0.9837962962962963\n"
          ]
        }
      ],
      "source": [
        "num = 5 ** 4 + C(4, 1) * 5 ** 3 + C(4, 2) * 5 ** 2\n",
        "den = 6 ** 4\n",
        "frac = num/den\n",
        "%p num den frac"
      ]
    },
    {
      "cell_type": "code",
      "execution_count": 7,
      "metadata": {},
      "outputs": [
        {
          "data": {
            "text/plain": [
              "21"
            ]
          },
          "execution_count": 7,
          "metadata": {},
          "output_type": "execute_result"
        }
      ],
      "source": [
        "6 ** 4 - (C(4, 3) * 5 + 1)\n",
        "(C(4, 3) * 5 + 1)"
      ]
    },
    {
      "cell_type": "code",
      "execution_count": 8,
      "metadata": {},
      "outputs": [
        {
          "data": {
            "text/plain": [
              "0.4830246913580247"
            ]
          },
          "execution_count": 8,
          "metadata": {},
          "output_type": "execute_result"
        }
      ],
      "source": [
        "num = C(4, 1) * 5 ** 3 + C(4, 2) * 5 ** 2 + C(4, 3) * 5 + C(4, 4)\n",
        "1 - num/den"
      ]
    },
    {
      "cell_type": "code",
      "execution_count": 9,
      "metadata": {},
      "outputs": [
        {
          "data": {
            "text/plain": [
              "0.48225308641975306"
            ]
          },
          "execution_count": 9,
          "metadata": {},
          "output_type": "execute_result"
        }
      ],
      "source": [
        "5 ** 4 / 6 ** 4"
      ]
    },
    {
      "cell_type": "code",
      "execution_count": 10,
      "metadata": {},
      "outputs": [
        {
          "data": {
            "text/plain": [
              "0.2777777777777778"
            ]
          },
          "execution_count": 10,
          "metadata": {},
          "output_type": "execute_result"
        }
      ],
      "source": [
        "5 * 4 * 3 / 6 ** 3"
      ]
    },
    {
      "cell_type": "code",
      "execution_count": 11,
      "metadata": {},
      "outputs": [
        {
          "data": {
            "text/plain": [
              "0.16203703703703703"
            ]
          },
          "execution_count": 11,
          "metadata": {},
          "output_type": "execute_result"
        }
      ],
      "source": [
        "(C(4, 3) * 6 * 5 + C(4, 2) * C(6, 2)) / den"
      ]
    },
    {
      "cell_type": "code",
      "execution_count": 12,
      "metadata": {},
      "outputs": [
        {
          "data": {
            "text/plain": [
              "6.298815822625346e-05"
            ]
          },
          "execution_count": 12,
          "metadata": {},
          "output_type": "execute_result"
        }
      ],
      "source": [
        "n = P(5) * P(4) / P(9)\n",
        "n ** 2"
      ]
    },
    {
      "cell_type": "code",
      "execution_count": 18,
      "metadata": {},
      "outputs": [
        {
          "name": "stdout",
          "output_type": "stream",
          "text": [
            "126\n",
            "220\n"
          ]
        }
      ],
      "source": [
        "%p C(9, 4)\n",
        "%p mC(9, 4)"
      ]
    }
  ],
  "metadata": {
    "kernelspec": {
      "display_name": "Python 3 (ipykernel)",
      "language": "python",
      "name": "python3"
    },
    "language_info": {
      "codemirror_mode": {
        "name": "ipython",
        "version": 3
      },
      "file_extension": ".py",
      "mimetype": "text/x-python",
      "name": "python",
      "nbconvert_exporter": "python",
      "pygments_lexer": "ipython3",
      "version": "3.8.5"
    }
  },
  "nbformat": 4,
  "nbformat_minor": 4
}
