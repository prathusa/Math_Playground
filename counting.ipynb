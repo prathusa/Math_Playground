{
  "metadata": {
    "language_info": {
      "codemirror_mode": {
        "name": "python",
        "version": 3
      },
      "file_extension": ".py",
      "mimetype": "text/x-python",
      "name": "python",
      "nbconvert_exporter": "python",
      "pygments_lexer": "ipython3",
      "version": "3.8"
    },
    "kernelspec": {
      "name": "python",
      "display_name": "Python (Pyodide)",
      "language": "python"
    }
  },
  "nbformat_minor": 4,
  "nbformat": 4,
  "cells": [
    {
      "cell_type": "code",
      "source": "from math import factorial as fact\n\nP = lambda n, r=-1: fact(n) if r == -1 else fact(n)//fact(n-r) if n > r else 1 if n == r else 0\nC = lambda n, r=-1: P(n, r)//fact(r)",
      "metadata": {
        "trusted": true
      },
      "execution_count": 6,
      "outputs": []
    }
  ]
}