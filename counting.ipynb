{
  "cells": [
    {
      "cell_type": "code",
      "execution_count": null,
      "metadata": {},
      "outputs": [],
      "source": [
        "# Jupyter stuff\n",
        "from IPython.core.magic import register_line_magic\n",
        "@register_line_magic\n",
        "def p(args):\n",
        "    for key in args.split(\" \"):\n",
        "        print( f'{key}: {globals()[key]}' )"
      ]
    },
    {
      "cell_type": "code",
      "execution_count": 6,
      "metadata": {
        "trusted": true
      },
      "outputs": [],
      "source": [
        "# Global function def\n",
        "import math\n",
        "from math import factorial as fact\n",
        "\n",
        "P = lambda n, r=-1: fact(n) if r == -1 else fact(n)//fact(n-r) if n > r else 1 if n == r else 0\n",
        "C = lambda n, r=0: P(n, r)//fact(r)\n",
        "mP = ()\n",
        "mC = lambda r, k: C(r+k-1, r)"
      ]
    },
    {
      "cell_type": "code",
      "execution_count": null,
      "metadata": {},
      "outputs": [],
      "source": []
    }
  ],
  "metadata": {
    "kernelspec": {
      "display_name": "Python (Pyodide)",
      "language": "python",
      "name": "python"
    },
    "language_info": {
      "codemirror_mode": {
        "name": "python",
        "version": 3
      },
      "file_extension": ".py",
      "mimetype": "text/x-python",
      "name": "python",
      "nbconvert_exporter": "python",
      "pygments_lexer": "ipython3",
      "version": "3.8"
    }
  },
  "nbformat": 4,
  "nbformat_minor": 4
}
